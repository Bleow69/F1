{
 "cells": [
  {
   "cell_type": "code",
   "execution_count": 3,
   "metadata": {},
   "outputs": [
    {
     "data": {
      "text/plain": [
       "[('lap_times',),\n",
       " ('circuits',),\n",
       " ('constructor_results',),\n",
       " ('constructor_standings',),\n",
       " ('constructors',),\n",
       " ('driver_standings',),\n",
       " ('drivers',),\n",
       " ('pit_stops',),\n",
       " ('qualifying',),\n",
       " ('races',),\n",
       " ('results',),\n",
       " ('seasons',),\n",
       " ('sprint_results',),\n",
       " ('status',)]"
      ]
     },
     "execution_count": 3,
     "metadata": {},
     "output_type": "execute_result"
    }
   ],
   "source": [
    "\n",
    "import sqlite3\n",
    "conn = sqlite3.connect('f1_db.db')\n",
    "c = conn.cursor()\n",
    "c.execute(\"SELECT name FROM sqlite_master WHERE type='table'\").fetchall()"
   ]
  }
 ],
 "metadata": {
  "kernelspec": {
   "display_name": ".venv",
   "language": "python",
   "name": "python3"
  },
  "language_info": {
   "codemirror_mode": {
    "name": "ipython",
    "version": 3
   },
   "file_extension": ".py",
   "mimetype": "text/x-python",
   "name": "python",
   "nbconvert_exporter": "python",
   "pygments_lexer": "ipython3",
   "version": "3.13.0"
  }
 },
 "nbformat": 4,
 "nbformat_minor": 2
}
